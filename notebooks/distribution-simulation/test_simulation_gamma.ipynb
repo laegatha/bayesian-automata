{
 "cells": [
  {
   "cell_type": "code",
   "execution_count": 1,
   "id": "efc2408b",
   "metadata": {},
   "outputs": [],
   "source": [
    "import numpy as np\n",
    "import pandas as pd\n",
    "import pyjags\n",
    "import matplotlib.pyplot as plt\n",
    "import seaborn as sns\n",
    "from scipy import stats"
   ]
  },
  {
   "cell_type": "code",
   "execution_count": 2,
   "id": "2e9a0f36",
   "metadata": {},
   "outputs": [
    {
     "data": {
      "text/plain": [
       "array([0.30664858, 1.49054719, 1.19811172, 0.82862893, 1.02023197,\n",
       "       1.11414676, 0.51313976, 0.25770394, 1.35352975, 0.81339901])"
      ]
     },
     "execution_count": 2,
     "metadata": {},
     "output_type": "execute_result"
    }
   ],
   "source": [
    "a=2\n",
    "b=3\n",
    "np.random.gamma(a, scale=1/b, size=10)"
   ]
  },
  {
   "cell_type": "code",
   "execution_count": null,
   "id": "ad4ab5cb",
   "metadata": {},
   "outputs": [],
   "source": []
  }
 ],
 "metadata": {
  "kernelspec": {
   "display_name": "cookie-cats-ab-test-env",
   "language": "python",
   "name": "cookie-cats-ab-test-env"
  },
  "language_info": {
   "codemirror_mode": {
    "name": "ipython",
    "version": 3
   },
   "file_extension": ".py",
   "mimetype": "text/x-python",
   "name": "python",
   "nbconvert_exporter": "python",
   "pygments_lexer": "ipython3",
   "version": "3.8.10"
  }
 },
 "nbformat": 4,
 "nbformat_minor": 5
}
